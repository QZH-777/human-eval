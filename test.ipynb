{
 "cells": [
  {
   "cell_type": "code",
   "execution_count": 28,
   "metadata": {},
   "outputs": [],
   "source": [
    "import openai\n",
    "import openai\n",
    "import dotenv\n",
    "import os\n",
    "dotenv.load_dotenv()\n",
    "openai.api_key = os.getenv(\"OPENAI_API_KEY\")\n",
    "openai.api_base = os.getenv(\"OPENAI_API_BASE\")\n",
    "\n",
    "from human_eval.data import write_jsonl, read_problems\n",
    "\n",
    "problems = read_problems()"
   ]
  },
  {
   "cell_type": "code",
   "execution_count": 9,
   "metadata": {},
   "outputs": [
    {
     "name": "stdout",
     "output_type": "stream",
     "text": [
      "HumanEval/0\n",
      "task_id\n",
      "HumanEval/0\n",
      "-+--+--+--+--+--+--+--+--+--+--+--+--+--+--+--+--+--+--+--+-\n",
      "prompt\n",
      "from typing import List\n",
      "\n",
      "\n",
      "def has_close_elements(numbers: List[float], threshold: float) -> bool:\n",
      "    \"\"\" Check if in given list of numbers, are any two numbers closer to each other than\n",
      "    given threshold.\n",
      "    >>> has_close_elements([1.0, 2.0, 3.0], 0.5)\n",
      "    False\n",
      "    >>> has_close_elements([1.0, 2.8, 3.0, 4.0, 5.0, 2.0], 0.3)\n",
      "    True\n",
      "    \"\"\"\n",
      "\n",
      "-+--+--+--+--+--+--+--+--+--+--+--+--+--+--+--+--+--+--+--+-\n",
      "entry_point\n",
      "has_close_elements\n",
      "-+--+--+--+--+--+--+--+--+--+--+--+--+--+--+--+--+--+--+--+-\n",
      "canonical_solution\n",
      "    for idx, elem in enumerate(numbers):\n",
      "        for idx2, elem2 in enumerate(numbers):\n",
      "            if idx != idx2:\n",
      "                distance = abs(elem - elem2)\n",
      "                if distance < threshold:\n",
      "                    return True\n",
      "\n",
      "    return False\n",
      "\n",
      "-+--+--+--+--+--+--+--+--+--+--+--+--+--+--+--+--+--+--+--+-\n",
      "test\n",
      "\n",
      "\n",
      "METADATA = {\n",
      "    'author': 'jt',\n",
      "    'dataset': 'test'\n",
      "}\n",
      "\n",
      "\n",
      "def check(candidate):\n",
      "    assert candidate([1.0, 2.0, 3.9, 4.0, 5.0, 2.2], 0.3) == True\n",
      "    assert candidate([1.0, 2.0, 3.9, 4.0, 5.0, 2.2], 0.05) == False\n",
      "    assert candidate([1.0, 2.0, 5.9, 4.0, 5.0], 0.95) == True\n",
      "    assert candidate([1.0, 2.0, 5.9, 4.0, 5.0], 0.8) == False\n",
      "    assert candidate([1.0, 2.0, 3.0, 4.0, 5.0, 2.0], 0.1) == True\n",
      "    assert candidate([1.1, 2.2, 3.1, 4.1, 5.1], 1.0) == True\n",
      "    assert candidate([1.1, 2.2, 3.1, 4.1, 5.1], 0.5) == False\n",
      "\n",
      "\n",
      "-+--+--+--+--+--+--+--+--+--+--+--+--+--+--+--+--+--+--+--+-\n"
     ]
    }
   ],
   "source": [
    "for key in problems:\n",
    "    print(key)\n",
    "    for key2 in problems[key]:\n",
    "        print(key2)\n",
    "        print(problems[key][key2])\n",
    "        print('-+-' * 20)\n",
    "    break"
   ]
  },
  {
   "cell_type": "code",
   "execution_count": 47,
   "metadata": {},
   "outputs": [],
   "source": [
    "case = problems['HumanEval/1']"
   ]
  },
  {
   "cell_type": "code",
   "execution_count": 48,
   "metadata": {},
   "outputs": [
    {
     "name": "stdout",
     "output_type": "stream",
     "text": [
      "from typing import List\n",
      "\n",
      "\n",
      "def separate_paren_groups(paren_string: str) -> List[str]:\n",
      "    \"\"\" Input to this function is a string containing multiple groups of nested parentheses. Your goal is to\n",
      "    separate those group into separate strings and return the list of those.\n",
      "    Separate groups are balanced (each open brace is properly closed) and not nested within each other\n",
      "    Ignore any spaces in the input string.\n",
      "    >>> separate_paren_groups('( ) (( )) (( )( ))')\n",
      "    ['()', '(())', '(()())']\n",
      "    \"\"\"\n",
      "\n"
     ]
    }
   ],
   "source": [
    "print(case['prompt'])"
   ]
  },
  {
   "cell_type": "code",
   "execution_count": 12,
   "metadata": {},
   "outputs": [
    {
     "name": "stdout",
     "output_type": "stream",
     "text": [
      "has_close_elements\n"
     ]
    }
   ],
   "source": [
    "print(case['entry_point'])"
   ]
  },
  {
   "cell_type": "code",
   "execution_count": 13,
   "metadata": {},
   "outputs": [
    {
     "name": "stdout",
     "output_type": "stream",
     "text": [
      "\n",
      "\n",
      "METADATA = {\n",
      "    'author': 'jt',\n",
      "    'dataset': 'test'\n",
      "}\n",
      "\n",
      "\n",
      "def check(candidate):\n",
      "    assert candidate([1.0, 2.0, 3.9, 4.0, 5.0, 2.2], 0.3) == True\n",
      "    assert candidate([1.0, 2.0, 3.9, 4.0, 5.0, 2.2], 0.05) == False\n",
      "    assert candidate([1.0, 2.0, 5.9, 4.0, 5.0], 0.95) == True\n",
      "    assert candidate([1.0, 2.0, 5.9, 4.0, 5.0], 0.8) == False\n",
      "    assert candidate([1.0, 2.0, 3.0, 4.0, 5.0, 2.0], 0.1) == True\n",
      "    assert candidate([1.1, 2.2, 3.1, 4.1, 5.1], 1.0) == True\n",
      "    assert candidate([1.1, 2.2, 3.1, 4.1, 5.1], 0.5) == False\n",
      "\n",
      "\n"
     ]
    }
   ],
   "source": [
    "print(case['test'])"
   ]
  },
  {
   "cell_type": "code",
   "execution_count": 84,
   "metadata": {},
   "outputs": [],
   "source": [
    "one_shot_prompt = \"\"\"def sum_of_even_numbers(numbers: List[int]) -> int:\n",
    "    \\\"\\\"\\\" Return the sum of all even numbers in the given list of integers.\n",
    "    >>> sum_of_even_numbers([1, 2, 3, 4, 5])\n",
    "    6\n",
    "    >>> sum_of_even_numbers([10, 15, 20, 25, 30])\n",
    "    60\n",
    "    >>> sum_of_even_numbers([3, 5, 7, 9])\n",
    "    0\n",
    "    >>> sum_of_even_numbers([-2, -4, -6, -8])\n",
    "    -20\n",
    "    >>> sum_of_even_numbers([0, 1, 2, 3, 4])\n",
    "    6\n",
    "    \\\"\\\"\\\"\"\"\"\n",
    "\n",
    "one_shot_answer = \"\"\"def sum_of_even_numbers(numbers: List[int]) -> int:\n",
    "    return sum(num for num in numbers if num % 2 == 0)\"\"\"\n",
    "\n",
    "prompt = \"\"\"You are tasked with a program synthesis challenge. Your goal is to write a Python function that satisfies a set of given requirements. These requirements will be provided in the form of a function header, a specific function signature, and a detailed docstring. Your task is to develop the body of the function based on this information, ensuring that it meets the intended functionality as described.\n",
    "\n",
    "Here's what you will be provided:\n",
    "\n",
    "Function Header: This includes any necessary imports and the initial line of the function, specifying the function name and parameters.\n",
    "Function Signature: A concise description detailing the function's inputs (parameters) and outputs (return type).\n",
    "Docstring: Detailed information about the function's purpose, parameters, return value, and any other relevant details.\n",
    "Your Task: Based on the above information, write the Python code that forms the body of the function. This code should be consistent with the provided header, signature, and docstring, and it should aim to pass all the specified test cases.\n",
    "\n",
    "Response Format: In your response, only include the code body of the function with function header and funtion signature. Do not repeat the docstring and other informations.\n",
    "\n",
    "\n",
    "Here's an example for reference:\n",
    "\n",
    "The given program synthesis information is:\n",
    "\n",
    "{one_shot_prompt}\n",
    "\n",
    "The generated code is:\n",
    "\n",
    "{one_shot_answer}\n",
    "\n",
    "[End of example]\n",
    "\n",
    "Below, you will find the provided Function Header, Function Signature, and Docstring. Use this information to guide your coding:\n",
    "\n",
    "{input}\n",
    "\n",
    "[End of program synthesis information]\n",
    "\n",
    "Based on the above information, write the Python code that forms the body of the function. \"\"\""
   ]
  },
  {
   "cell_type": "code",
   "execution_count": 80,
   "metadata": {},
   "outputs": [],
   "source": []
  },
  {
   "cell_type": "code",
   "execution_count": 85,
   "metadata": {},
   "outputs": [],
   "source": [
    "p = prompt.format(input=one_show_prompt)"
   ]
  },
  {
   "cell_type": "code",
   "execution_count": 86,
   "metadata": {},
   "outputs": [
    {
     "name": "stdout",
     "output_type": "stream",
     "text": [
      "You are tasked with a program synthesis challenge. Your goal is to write a Python function that satisfies a set of given requirements. These requirements will be provided in the form of a function header, a specific function signature, and a detailed docstring. Your task is to develop the body of the function based on this information, ensuring that it meets the intended functionality as described.\n",
      "\n",
      "Here's what you will be provided:\n",
      "\n",
      "Function Header: This includes any necessary imports and the initial line of the function, specifying the function name and parameters.\n",
      "Function Signature: A concise description detailing the function's inputs (parameters) and outputs (return type).\n",
      "Docstring: Detailed information about the function's purpose, parameters, return value, and any other relevant details.\n",
      "Your Task: Based on the above information, write the Python code that forms the body of the function. This code should be consistent with the provided header, signature, and docstring, and it should aim to pass all the specified test cases.\n",
      "\n",
      "Below, you will find the provided Function Header, Function Signature, and Docstring. Use this information to guide your coding:\n",
      "\n",
      "def sum_of_even_numbers(numbers: List[int]) -> int:\n",
      "    \"\"\" Return the sum of all even numbers in the given list of integers.\n",
      "    >>> sum_of_even_numbers([1, 2, 3, 4, 5])\n",
      "    6\n",
      "    >>> sum_of_even_numbers([10, 15, 20, 25, 30])\n",
      "    60\n",
      "    >>> sum_of_even_numbers([3, 5, 7, 9])\n",
      "    0\n",
      "    >>> sum_of_even_numbers([-2, -4, -6, -8])\n",
      "    -20\n",
      "    >>> sum_of_even_numbers([0, 1, 2, 3, 4])\n",
      "    6\n",
      "    \"\"\"\n",
      "\n",
      "[End of program synthesis information]\n",
      "\n",
      "Response Format: In your response, only include the code body of the function with function header and funtion signature. Do not repeat the docstring and other informations. \n"
     ]
    }
   ],
   "source": [
    "print(p)"
   ]
  },
  {
   "cell_type": "code",
   "execution_count": null,
   "metadata": {},
   "outputs": [],
   "source": []
  },
  {
   "cell_type": "code",
   "execution_count": 87,
   "metadata": {},
   "outputs": [],
   "source": [
    "response = openai.ChatCompletion.create(\n",
    "    model = 'gpt-3.5-turbo',\n",
    "    messages = [{'role': 'user', 'content': p}],\n",
    "    temperature = 0,\n",
    "    max_tokens = None)"
   ]
  },
  {
   "cell_type": "code",
   "execution_count": 88,
   "metadata": {},
   "outputs": [
    {
     "name": "stdout",
     "output_type": "stream",
     "text": [
      "from typing import List\n",
      "\n",
      "def sum_of_even_numbers(numbers: List[int]) -> int:\n",
      "    return sum(num for num in numbers if num % 2 == 0)\n"
     ]
    }
   ],
   "source": [
    "print(response['choices'][0]['message']['content'])"
   ]
  },
  {
   "cell_type": "code",
   "execution_count": null,
   "metadata": {},
   "outputs": [],
   "source": [
    "num_samples_per_task = 200\n",
    "samples = [\n",
    "    dict(task_id=task_id, completion=generate_one_completion(problems[task_id][\"prompt\"]))\n",
    "    for task_id in problems\n",
    "    for _ in range(num_samples_per_task)\n",
    "]\n",
    "write_jsonl(\"samples.jsonl\", samples)"
   ]
  }
 ],
 "metadata": {
  "kernelspec": {
   "display_name": "codex",
   "language": "python",
   "name": "python3"
  },
  "language_info": {
   "codemirror_mode": {
    "name": "ipython",
    "version": 3
   },
   "file_extension": ".py",
   "mimetype": "text/x-python",
   "name": "python",
   "nbconvert_exporter": "python",
   "pygments_lexer": "ipython3",
   "version": "3.9.18"
  }
 },
 "nbformat": 4,
 "nbformat_minor": 2
}
